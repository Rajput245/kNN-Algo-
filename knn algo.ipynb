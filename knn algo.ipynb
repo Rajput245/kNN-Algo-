{
 "cells": [
  {
   "cell_type": "code",
   "execution_count": 58,
   "metadata": {},
   "outputs": [
    {
     "data": {
      "image/png": "[encoded data removed]",
      "text/plain": [
       "<matplotlib.figure.Figure at 0x1d3d702cef0>"
      ]
     },
     "metadata": {},
     "output_type": "display_data"
    }
   ],
   "source": [
    "import matplotlib.pyplot as plt\n",
    "knn={'r':[[1,1],[1,2],[2,1],[2,2],[1.5,3]],'g':[[4,5],[4,3],[3,4],[4,1.5],[3.5,3],[3.5,2]]}\n",
    "p=[3,2]\n",
    "for key in knn:\n",
    "    for val in knn[key]:\n",
    "        plt.scatter(val[0],val[1],color=key)\n",
    "plt.scatter(3,2,color='yellow')\n",
    "plt.show()"
   ]
  },
  {
   "cell_type": "code",
   "execution_count": 50,
   "metadata": {
    "collapsed": true
   },
   "outputs": [],
   "source": [
    "import math\n",
    "import collections"
   ]
  },
  {
   "cell_type": "code",
   "execution_count": 51,
   "metadata": {
    "collapsed": true
   },
   "outputs": [],
   "source": [
    "total_dist=[]\n",
    "def knnClassifier(k,data,predict):\n",
    "    for group in data:\n",
    "        for val in data[group]:\n",
    "            total_dist.append([math.sqrt(((val[0]-p[0])**2)+((val[1]-p[1])**2)),group])\n",
    "            # Using Euclidian distance\n",
    "    return(sorted(total_dist)[:k])"
   ]
  },
  {
   "cell_type": "code",
   "execution_count": 55,
   "metadata": {
    "collapsed": true
   },
   "outputs": [],
   "source": [
    "res=knnClassifier(3*len(knn)+1,knn,p)"
   ]
  },
  {
   "cell_type": "code",
   "execution_count": 56,
   "metadata": {},
   "outputs": [
    {
     "data": {
      "text/plain": [
       "[[0.5, 'g'],\n",
       " [0.5, 'g'],\n",
       " [1.0, 'r'],\n",
       " [1.0, 'r'],\n",
       " [1.118033988749895, 'g'],\n",
       " [1.118033988749895, 'g'],\n",
       " [1.118033988749895, 'g']]"
      ]
     },
     "execution_count": 56,
     "metadata": {},
     "output_type": "execute_result"
    }
   ],
   "source": [
    "res"
   ]
  },
  {
   "cell_type": "code",
   "execution_count": 57,
   "metadata": {},
   "outputs": [
    {
     "data": {
      "text/plain": [
       "[5, 'g']"
      ]
     },
     "execution_count": 57,
     "metadata": {},
     "output_type": "execute_result"
    }
   ],
   "source": [
    "result={'r':0,'g':0}\n",
    "list_result=[]\n",
    "for i in result:\n",
    "    for j in res:\n",
    "        if(i==j[1]):\n",
    "            result[i]+=1\n",
    "for key in result:\n",
    "    list_result.append([result[key],key])\n",
    "sorted(list_result,reverse=True)[0]"
   ]
  }
 ],
 "metadata": {
  "kernelspec": {
   "display_name": "Python 3",
   "language": "python",
   "name": "python3"
  },
  "language_info": {
   "codemirror_mode": {
    "name": "ipython",
    "version": 3
   },
   "file_extension": ".py",
   "mimetype": "text/x-python",
   "name": "python",
   "nbconvert_exporter": "python",
   "pygments_lexer": "ipython3",
   "version": "3.6.5"
  }
 },
 "nbformat": 4,
 "nbformat_minor": 2
}
